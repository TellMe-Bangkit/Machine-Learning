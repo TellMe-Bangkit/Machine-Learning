{
  "cells": [
    {
      "cell_type": "markdown",
      "source": [
        "# H5 TO JSON"
      ],
      "metadata": {
        "id": "H2rEyyCArHMs"
      }
    },
    {
      "cell_type": "code",
      "source": [
        "from keras.models import load_model\n",
        "\n",
        "# Load the model from the .h5 file\n",
        "model = load_model('/content/drive/MyDrive/modelasl.h5')\n",
        "\n",
        "# Convert the model to JSON format\n",
        "model_json = model.to_json()\n",
        "\n",
        "# Save the JSON to a file\n",
        "with open('modelasl.json', 'w') as json_file:\n",
        "    json_file.write(model_json)\n",
        "\n",
        "print(\"Model has been converted to JSON and saved to modelasl.json\")"
      ],
      "metadata": {
        "colab": {
          "base_uri": "https://localhost:8080/"
        },
        "id": "rtWUNoptZLXP",
        "outputId": "c52adf62-462f-402c-b04e-5c51fa6eec23"
      },
      "execution_count": null,
      "outputs": [
        {
          "output_type": "stream",
          "name": "stderr",
          "text": [
            "WARNING:absl:Compiled the loaded model, but the compiled metrics have yet to be built. `model.compile_metrics` will be empty until you train or evaluate the model.\n"
          ]
        },
        {
          "output_type": "stream",
          "name": "stdout",
          "text": [
            "Model has been converted to JSON and saved to modelasl.json\n"
          ]
        }
      ]
    },
    {
      "cell_type": "code",
      "source": [],
      "metadata": {
        "id": "iUMwqGmjoKhL"
      },
      "execution_count": null,
      "outputs": []
    }
  ],
  "metadata": {
    "accelerator": "GPU",
    "colab": {
      "gpuType": "T4",
      "provenance": []
    },
    "kernelspec": {
      "display_name": "Python 3",
      "name": "python3"
    },
    "language_info": {
      "name": "python"
    }
  },
  "nbformat": 4,
  "nbformat_minor": 0
}